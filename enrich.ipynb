{
  "cells": [
    {
      "cell_type": "markdown",
      "metadata": {
        "id": "JAPoU8Sm5E6e"
      },
      "source": [
        "<table align=\"left\">\n",
        "\n",
        "  <td>\n",
        "    <a href=\"https://colab.research.google.com/github/neo4j-partners/apevue-knowledge-graph/blob/master/enrich.ipynb\" target=\"_blank\">\n",
        "      <img src=\"https://cloud.google.com/ml-engine/images/colab-logo-32px.png\" alt=\"Colab logo\"> Run in Colab\n",
        "    </a>\n",
        "  </td>\n",
        "  <td>\n",
        "    <a href=\"https://github.com/neo4j-partners/apevue-knowledge-graph/blob/master/enrich.ipynb\" target=\"_blank\">\n",
        "      <img src=\"https://cloud.google.com/ml-engine/images/github-logo-32px.png\" alt=\"GitHub logo\">\n",
        "      View on GitHub\n",
        "    </a>\n",
        "  </td>\n",
        "  <td>\n",
        "    <a href=\"https://console.cloud.google.com/vertex-ai/workbench/deploy-notebook?download_url=https://raw.githubusercontent.com/neo4j-partners/apevue-knowledge-graph/main/enrich.ipynb\">\n",
        "      <img src=\"https://lh3.googleusercontent.com/UiNooY4LUgW_oTvpsNhPpQzsstV5W8F7rYgxgGBD85cWJoLmrOzhVs_ksK_vgx40SHs7jCqkTkCk=e14-rj-sc0xffffff-h130-w32\" alt=\"Vertex AI logo\">Open in Vertex AI Workbench\n",
        "    </a>\n",
        "</td>\n",
        "</table>"
      ]
    },
    {
      "cell_type": "markdown",
      "metadata": {
        "id": "YasYy1BqRHY8"
      },
      "source": [
        "# Enrich\n",
        "In this notebook, we'll enrich the data we previously loaded using Google Enterprise Knowledge Graph (EKG)."
      ]
    },
    {
      "cell_type": "markdown",
      "metadata": {},
      "source": [
        "## Google Enterprise Knowledge Graph\n",
        "Google Enterprise Knowledge Graph (EKG) is a tool for enriching datasets with data that Google has collected and made available through the EKG API.  This can be used to enrich data sets stored in Neo4j, the leading graph database.  In this blog post we’ll describe how to do that.\n",
        "\n",
        "Some helpful resources on EKG are:\n",
        "\n",
        "* Documentation - [Google Knowledge Graph Search API](https://developers.google.com/knowledge-graph)\n",
        "* Documentation - [Enterprise Knowledge Graph field enrichment](https://developers.google.com/knowledge-graph)\n",
        "* Blog Post - [Add intelligence to your document processing with Google's Enterprise Knowledge Graph](https://cloud.google.com/blog/products/ai-machine-learning/improves-document-ai-accuracy-and-consistency-with-ekg)\n",
        "* Support - [How Google's Knowledge Graph works](https://support.google.com/knowledgepanel/answer/9787176?hl=en)\n",
        "* Wikipedia - [Google Knowledge Graph](https://en.wikipedia.org/wiki/Google_Knowledge_Graph)\n"
      ]
    },
    {
      "cell_type": "markdown",
      "metadata": {
        "id": "m51HUN1aHNid"
      },
      "source": [
        "## Getting Started with EKG"
      ]
    },
    {
      "cell_type": "markdown",
      "metadata": {},
      "source": [
        "We're going to need to enable the Knowledge Graph Search API.  To do so, you'll need a Google Cloud account.  If you don't have one, you can sign up for one [here](https://console.cloud.google.com/freetrial).\n",
        "\n",
        "With that complete, navigate [here](https://console.cloud.google.com/marketplace/product/google/kgsearch.googleapis.com) and click \"Enable.\"\n",
        "\n",
        "Next you're going to need credentials.  Click on the \"Credentials\" link and then click \"Create Credentials.\"  Select \"API Key.\"  Copy your key and paste it below:"
      ]
    },
    {
      "cell_type": "code",
      "execution_count": null,
      "metadata": {},
      "outputs": [],
      "source": [
        "api_key='<enter your key here>'"
      ]
    },
    {
      "cell_type": "markdown",
      "metadata": {},
      "source": [
        "Ultimately we want to use EKG to enrich the data we already loaded into Neo4j.  First, let's start with a simple search.  One of the companies in the ApeVue data set we loaded earlier is Impossible Foods.  Let's try searching the graph for them."
      ]
    },
    {
      "cell_type": "code",
      "execution_count": null,
      "metadata": {},
      "outputs": [],
      "source": [
        "import json\n",
        "import urllib\n",
        "import pprint\n",
        "\n",
        "query = 'Impossible Foods'\n",
        "service_url = 'https://kgsearch.googleapis.com/v1/entities:search'\n",
        "params = {\n",
        "    'query': query,\n",
        "    'limit': 1,\n",
        "    'indent': True,\n",
        "    'key': api_key,\n",
        "}\n",
        "url = service_url + '?' + urllib.parse.urlencode(params)\n",
        "response = json.loads(urllib.request.urlopen(url).read())\n",
        "for element in response['itemListElement']:\n",
        "  print(element['result']['name'] + ' (' + str(element['resultScore']) + ')')\n",
        "\n",
        "pp = pprint.PrettyPrinter(indent=4)\n",
        "pp.pprint(response['itemListElement'][0])"
      ]
    },
    {
      "cell_type": "markdown",
      "metadata": {},
      "source": [
        "Ok.  That's pretty cool.  We looked up \"Impossible Foods\" and EKG told us that it's a organization, corporation and a thing.  For a description it's a \"Food company,\" which is pretty reasonable."
      ]
    },
    {
      "cell_type": "markdown",
      "metadata": {},
      "source": [
        "Let's wrap the code above up in a function that we can reuse later.  We're also going to add a little error handling logic in case we don't get a result in the EKG.  In that case, we'll just default the description to \"Company.\""
      ]
    },
    {
      "cell_type": "code",
      "execution_count": null,
      "metadata": {},
      "outputs": [],
      "source": [
        "def search_ekg(query):\n",
        "    service_url = 'https://kgsearch.googleapis.com/v1/entities:search'\n",
        "    params = {\n",
        "        'query': query,\n",
        "        'limit': 1,\n",
        "        'indent': True,\n",
        "        'key': api_key,\n",
        "    }\n",
        "    url = service_url + '?' + urllib.parse.urlencode(params)\n",
        "    response = json.loads(urllib.request.urlopen(url).read())\n",
        "\n",
        "    try:\n",
        "        description=response['itemListElement'][0]['result']['description']\n",
        "    except:\n",
        "        description='Company'\n",
        "    return(description)"
      ]
    },
    {
      "cell_type": "markdown",
      "metadata": {},
      "source": [
        "Let's test our new function out."
      ]
    },
    {
      "cell_type": "code",
      "execution_count": null,
      "metadata": {},
      "outputs": [],
      "source": [
        "search_ekg('Impossible Foods')"
      ]
    },
    {
      "cell_type": "markdown",
      "metadata": {},
      "source": [
        "That looks good.  \n",
        "\n",
        "Now let's try something more advanced.  We're going to connect to the Neo4j instance we were using in the previous notebook and enrich that graph with data from EKG."
      ]
    },
    {
      "cell_type": "markdown",
      "metadata": {},
      "source": [
        "## Connect to Neo4j\n",
        "We'll run the same commands as before to create a Neo4j connection."
      ]
    },
    {
      "cell_type": "code",
      "execution_count": null,
      "metadata": {},
      "outputs": [],
      "source": [
        "%pip install graphdatascience"
      ]
    },
    {
      "cell_type": "code",
      "execution_count": null,
      "metadata": {},
      "outputs": [],
      "source": [
        "# Edit these variables!\n",
        "DB_URL = \"neo4j+s://XXXXX.databases.neo4j.io\"\n",
        "DB_PASS = \"<your-password>\"\n",
        "\n",
        "# You can leave this default\n",
        "DB_USER = \"neo4j\""
      ]
    },
    {
      "cell_type": "code",
      "execution_count": null,
      "metadata": {},
      "outputs": [],
      "source": [
        "from graphdatascience import GraphDataScience\n",
        "\n",
        "gds = GraphDataScience(DB_URL, auth=(DB_USER, DB_PASS))"
      ]
    },
    {
      "cell_type": "markdown",
      "metadata": {},
      "source": [
        "## Enriching our Graph with EKG\n",
        "Now let's run a Cypher query which gets the firms in our graph."
      ]
    },
    {
      "cell_type": "code",
      "execution_count": null,
      "metadata": {},
      "outputs": [],
      "source": [
        "result = gds.run_cypher(\n",
        "    \"\"\"\n",
        "        MATCH (n:Firm) RETURN n\n",
        "    \"\"\"\n",
        ")\n",
        "display(result)"
      ]
    },
    {
      "cell_type": "markdown",
      "metadata": {},
      "source": [
        "The formatting of this output leaves something to be desired.  We can improve it this way."
      ]
    },
    {
      "cell_type": "code",
      "execution_count": null,
      "metadata": {},
      "outputs": [],
      "source": [
        "import pandas as pd\n",
        "df = pd.DataFrame([dict(record.items()) for record in result['n']])\n",
        "df"
      ]
    },
    {
      "cell_type": "markdown",
      "metadata": {},
      "source": [
        "Ok.  So, now we're going to iterate through our dataframe, grabbing the name of every firm we have.  We'll then perform a lookup in EKG, grabbing the description.  Finally we'll update the firm node back in Neo4j to add that new description."
      ]
    },
    {
      "cell_type": "code",
      "execution_count": null,
      "metadata": {},
      "outputs": [],
      "source": [
        "for index, row in df.iterrows():\n",
        "    name=row['name']\n",
        "    description=search_ekg(name)\n",
        "    print(name + ' - ' + description)\n",
        "\n",
        "    result = gds.run_cypher(\n",
        "            \"MATCH (n:Firm {name: '\" + name + \"'})\\n\"\n",
        "            \"SET n.description = '\" + description + \"'\\n\"\n",
        "            \"RETURN n\"\n",
        ")\n"
      ]
    },
    {
      "cell_type": "markdown",
      "metadata": {},
      "source": [
        "Now, let's query the firms in the graph again to check how we did."
      ]
    },
    {
      "cell_type": "code",
      "execution_count": null,
      "metadata": {},
      "outputs": [],
      "source": [
        "result = gds.run_cypher(\n",
        "    \"\"\"\n",
        "        MATCH (n:Firm) RETURN n\n",
        "    \"\"\"\n",
        ")\n",
        "display(result)"
      ]
    },
    {
      "cell_type": "code",
      "execution_count": null,
      "metadata": {},
      "outputs": [],
      "source": [
        "import pandas as pd\n",
        "df = pd.DataFrame([dict(record.items()) for record in result['n']])\n",
        "df"
      ]
    },
    {
      "cell_type": "markdown",
      "metadata": {},
      "source": [
        "This is pretty neat.  Some things like Impossible Foods are tagged correctly.  We do have some ambiguity issues.  The most obvious is Gorillas which comes back as a primate.  While technically true, that's probably not the gorilla we were looking for.\n",
        "\n",
        "Regardless, we've now enriched our data with EKG!"
      ]
    },
    {
      "cell_type": "markdown",
      "metadata": {},
      "source": [
        "# Conclusion\n",
        "In this notebook you enriched the graph we built in Neo4j Aura DS with additional data from Google Enterprise Knowledge Graph.  The next step will be to explore the enriched graph."
      ]
    }
  ],
  "metadata": {
    "colab": {
      "name": "enrich.ipynb",
      "toc_visible": true
    },
    "kernelspec": {
      "display_name": "Python 3.9.5 64-bit",
      "language": "python",
      "name": "python3"
    },
    "language_info": {
      "codemirror_mode": {
        "name": "ipython",
        "version": 3
      },
      "file_extension": ".py",
      "mimetype": "text/x-python",
      "name": "python",
      "nbconvert_exporter": "python",
      "pygments_lexer": "ipython3",
      "version": "3.9.5"
    },
    "vscode": {
      "interpreter": {
        "hash": "aee8b7b246df8f9039afb4144a1f6fd8d2ca17a180786b69acc140d282b71a49"
      }
    }
  },
  "nbformat": 4,
  "nbformat_minor": 0
}
