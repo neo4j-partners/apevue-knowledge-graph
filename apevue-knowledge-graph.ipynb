{
  "cells": [
    {
      "cell_type": "markdown",
      "metadata": {
        "id": "JAPoU8Sm5E6e"
      },
      "source": [
        "<table align=\"left\">\n",
        "\n",
        "  <td>\n",
        "    <a href=\"https://colab.research.google.com/github/neo4j-partners/apevue-knowledge-graph/blob/master/apevue-knowledge-graph.ipynb\" target=\"_blank\">\n",
        "      <img src=\"https://cloud.google.com/ml-engine/images/colab-logo-32px.png\" alt=\"Colab logo\"> Run in Colab\n",
        "    </a>\n",
        "  </td>\n",
        "  <td>\n",
        "    <a href=\"https://github.com/neo4j-partners/apevue-knowledge-graph/blob/master/apevue-knowledge-graph.ipynb\" target=\"_blank\">\n",
        "      <img src=\"https://cloud.google.com/ml-engine/images/github-logo-32px.png\" alt=\"GitHub logo\">\n",
        "      View on GitHub\n",
        "    </a>\n",
        "  </td>\n",
        "  <td>\n",
        "    <a href=\"https://console.cloud.google.com/vertex-ai/workbench/deploy-notebook?download_url=https://raw.githubusercontent.com/neo4j-partners/apevue-knowledge-graph/main/apevue-knowledge-graph.ipynb\">\n",
        "      <img src=\"https://lh3.googleusercontent.com/UiNooY4LUgW_oTvpsNhPpQzsstV5W8F7rYgxgGBD85cWJoLmrOzhVs_ksK_vgx40SHs7jCqkTkCk=e14-rj-sc0xffffff-h130-w32\" alt=\"Vertex AI logo\">Open in Vertex AI Workbench\n",
        "    </a>\n",
        "</td>\n",
        "</table>"
      ]
    },
    {
      "cell_type": "markdown",
      "metadata": {
        "id": "YasYy1BqRHY8"
      },
      "source": [
        "# Overview\n",
        "In this notebook, you will learn how to use Neo4j AuraDS to load data from [ApeVue](https://apevue.com/). This is private equity data from the ApeVue 50, an index of private firms.  The dataset includes information about subindex, investors and returns during H1 2022."
      ]
    },
    {
      "cell_type": "markdown",
      "metadata": {
        "id": "m51HUN1aHNid"
      },
      "source": [
        "# Connect to Neo4j\n",
        "We assume you've already deployed a Neo4j AuraDS instance on GCP.  To do that, you can go to the listing [here](https://console.cloud.google.com/marketplace/product/endpoints/prod.n4gcp.neo4j.io)."
      ]
    },
    {
      "cell_type": "markdown",
      "metadata": {},
      "source": [
        "Neo4j has two Python APIs we can use to connect.  The Graph Database API is the standard Neo4j way to interface with the database.  The Graph Data Science API is simplified with wrapper code that hides transaction semantics.  We're going to use that second API.  To do so we need to get the driver with this command."
      ]
    },
    {
      "cell_type": "code",
      "execution_count": null,
      "metadata": {},
      "outputs": [],
      "source": [
        "%pip install graphdatascience"
      ]
    },
    {
      "cell_type": "markdown",
      "metadata": {},
      "source": [
        "Now, you're going to need the connection string and credentials from the AuraDS deployment.  You'll need to fill these variables out."
      ]
    },
    {
      "cell_type": "code",
      "execution_count": null,
      "metadata": {},
      "outputs": [],
      "source": [
        "# Edit these variables!\n",
        "DB_URL = \"neo4j+s://XXXXX.databases.neo4j.io\"\n",
        "DB_PASS = \"<your-password>\"\n",
        "\n",
        "DB_URL = \"neo4j+s://f0f7aa10.databases.neo4j.io\"\n",
        "DB_PASS = \"zRuJoJed-lu9aK8Jhfiu5gioNRGyWETwrhgl7FKFJ9k\"\n",
        "\n",
        "# You can leave this default\n",
        "DB_USER = \"neo4j\""
      ]
    },
    {
      "cell_type": "code",
      "execution_count": null,
      "metadata": {},
      "outputs": [],
      "source": [
        "from graphdatascience import GraphDataScience\n",
        "\n",
        "gds = GraphDataScience(DB_URL, auth=(DB_USER, DB_PASS))"
      ]
    },
    {
      "cell_type": "markdown",
      "metadata": {},
      "source": [
        "# Load Data into Neo4j\n",
        "Now that we've got our connection object, let's load the dataset into Neo4j."
      ]
    },
    {
      "cell_type": "markdown",
      "metadata": {},
      "source": [
        "Let's start by defining some constraints."
      ]
    },
    {
      "cell_type": "code",
      "execution_count": null,
      "metadata": {},
      "outputs": [],
      "source": [
        "result = gds.run_cypher(\n",
        "    \"CREATE CONSTRAINT IF NOT EXISTS ON (p:Index) ASSERT (p.name) IS NODE KEY;\"\n",
        ")\n",
        "display(result)\n",
        "\n",
        "result = gds.run_cypher(\n",
        "    \"CREATE CONSTRAINT IF NOT EXISTS ON (p:SubIndex) ASSERT (p.name) IS NODE KEY;\"\n",
        ")\n",
        "display(result)\n",
        "\n",
        "result = gds.run_cypher(\n",
        "    \"CREATE CONSTRAINT IF NOT EXISTS ON (p:Firm) ASSERT (p.name) IS NODE KEY;\"\n",
        ")\n",
        "display(result)\n",
        "\n",
        "result = gds.run_cypher(\n",
        "    \"CREATE CONSTRAINT IF NOT EXISTS ON (p:Investor) ASSERT (p.name) IS NODE KEY;\"\n",
        ")\n",
        "display(result)"
      ]
    },
    {
      "cell_type": "markdown",
      "metadata": {},
      "source": [
        "Let's start by loading nodes."
      ]
    },
    {
      "cell_type": "code",
      "execution_count": null,
      "metadata": {},
      "outputs": [],
      "source": [
        "result = gds.run_cypher(\n",
        "    \"\"\"\n",
        "        LOAD CSV WITH HEADERS FROM \"https://raw.githubusercontent.com/neo4j-partners/apevue-knowledge-graph/main/investors.csv\" AS row\n",
        "        MERGE (x:Index {name:row.Index})\n",
        "    \"\"\"\n",
        ")\n",
        "display(result)"
      ]
    },
    {
      "cell_type": "code",
      "execution_count": null,
      "metadata": {},
      "outputs": [],
      "source": [
        "result = gds.run_cypher(\n",
        "    \"\"\"\n",
        "        LOAD CSV WITH HEADERS FROM \"https://raw.githubusercontent.com/neo4j-partners/apevue-knowledge-graph/main/investors.csv\" AS row\n",
        "        MERGE (x:SubIndex {name:row.SubIndex})\n",
        "    \"\"\"\n",
        ")\n",
        "display(result)"
      ]
    },
    {
      "cell_type": "code",
      "execution_count": null,
      "metadata": {},
      "outputs": [],
      "source": [
        "result = gds.run_cypher(\n",
        "    \"\"\"\n",
        "        LOAD CSV WITH HEADERS FROM \"https://raw.githubusercontent.com/neo4j-partners/apevue-knowledge-graph/main/returns.csv\" AS row\n",
        "        MERGE (x:Firm {name:row.Firm})\n",
        "        ON CREATE SET\n",
        "            x.return=row.Return\n",
        "    \"\"\"\n",
        ")\n",
        "display(result)"
      ]
    },
    {
      "cell_type": "code",
      "execution_count": null,
      "metadata": {},
      "outputs": [],
      "source": [
        "result = gds.run_cypher(\n",
        "    \"\"\"\n",
        "        LOAD CSV WITH HEADERS FROM \"https://raw.githubusercontent.com/neo4j-partners/apevue-knowledge-graph/main/investors.csv\" AS row\n",
        "        MERGE (x:Investor {name:row.Investor})\n",
        "    \"\"\"\n",
        ")\n",
        "display(result)"
      ]
    },
    {
      "cell_type": "markdown",
      "metadata": {},
      "source": [
        "Now let's create relationships between those nodes."
      ]
    },
    {
      "cell_type": "code",
      "execution_count": null,
      "metadata": {},
      "outputs": [],
      "source": [
        "result = gds.run_cypher(\n",
        "    \"\"\"\n",
        "        LOAD CSV WITH HEADERS FROM \"https://raw.githubusercontent.com/neo4j-partners/apevue-knowledge-graph/main/investors.csv\" AS row\n",
        "        MATCH (i:Index {name:row.Index})\n",
        "        MATCH (s:SubIndex {name:row.SubIndex})\n",
        "        MERGE (i)-[r:CONTAINS]->(s)\n",
        "    \"\"\"\n",
        ")\n",
        "display(result)"
      ]
    },
    {
      "cell_type": "code",
      "execution_count": null,
      "metadata": {},
      "outputs": [],
      "source": [
        "result = gds.run_cypher(\n",
        "    \"\"\"\n",
        "        LOAD CSV WITH HEADERS FROM \"https://raw.githubusercontent.com/neo4j-partners/apevue-knowledge-graph/main/investors.csv\" AS row\n",
        "        MATCH (s:SubIndex {name:row.SubIndex})\n",
        "        MATCH (f:Firm {name:row.Firm})\n",
        "        MERGE (s)-[r:CONTAINS]->(f)\n",
        "    \"\"\"\n",
        ")\n",
        "display(result)"
      ]
    },
    {
      "cell_type": "code",
      "execution_count": null,
      "metadata": {},
      "outputs": [],
      "source": [
        "result = gds.run_cypher(\n",
        "    \"\"\"\n",
        "        LOAD CSV WITH HEADERS FROM \"https://raw.githubusercontent.com/neo4j-partners/apevue-knowledge-graph/main/investors.csv\" AS row\n",
        "        MATCH (f:Firm {name:row.Firm})\n",
        "        MATCH (i:Investor {name:row.Investor})\n",
        "        MERGE (f)-[r:OWNED_BY]->(i)\n",
        "    \"\"\"\n",
        ")\n",
        "display(result)"
      ]
    },
    {
      "cell_type": "markdown",
      "metadata": {},
      "source": [
        "We should also load the return data for each firm."
      ]
    },
    {
      "cell_type": "code",
      "execution_count": null,
      "metadata": {},
      "outputs": [],
      "source": [
        "result = gds.run_cypher(\n",
        "    \"\"\"\n",
        "        LOAD CSV WITH HEADERS FROM \"https://raw.githubusercontent.com/neo4j-partners/apevue-knowledge-graph/main/returns.csv\" AS row\n",
        "        MERGE (x:Firm {name:row.Firm})\n",
        "        ON CREATE SET\n",
        "            x.return=row.Return\n",
        "    \"\"\"\n",
        ")\n",
        "display(result)"
      ]
    },
    {
      "cell_type": "markdown",
      "metadata": {},
      "source": [
        "# Conclusion\n",
        "In this notebook you loaded ApeVue data into Neo4j.  That created a knowledge graph that you can use tools like Neo4j Browser and Neo4j Bloom to explore."
      ]
    }
  ],
  "metadata": {
    "colab": {
      "name": "apevue-knowledge-graph.ipynb",
      "toc_visible": true
    },
    "kernelspec": {
      "display_name": "Python 3.9.5 64-bit",
      "language": "python",
      "name": "python3"
    },
    "language_info": {
      "name": "python",
      "version": "3.9.5"
    },
    "vscode": {
      "interpreter": {
        "hash": "aee8b7b246df8f9039afb4144a1f6fd8d2ca17a180786b69acc140d282b71a49"
      }
    }
  },
  "nbformat": 4,
  "nbformat_minor": 0
}
